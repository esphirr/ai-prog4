{
 "cells": [
  {
   "cell_type": "markdown",
   "metadata": {},
   "source": [
    "API Key の取得はこれを参考に：Zenn - 無料で使えるLLM API Groqを使ってみた\n",
    "\n",
    "https://zenn.dev/mizunny/articles/58be26d25f9589"
   ]
  },
  {
   "cell_type": "code",
   "execution_count": 2,
   "metadata": {},
   "outputs": [],
   "source": [
    "# ライブラリのインポート\n",
    "import os\n",
    "from groq import Groq"
   ]
  },
  {
   "cell_type": "code",
   "execution_count": 3,
   "metadata": {},
   "outputs": [],
   "source": [
    "# APIキーを読み込む\n",
    "with open(\"data\\Groq_key.txt\") as f:\n",
    "    GROQ_API_KEY = f.read()\n",
    "\n",
    "client = Groq(\n",
    "    api_key=os.environ.get(GROQ_API_KEY) # ここはtxtファイルを読み込む形が良いかも\n",
    "    )"
   ]
  },
  {
   "cell_type": "code",
   "execution_count": 4,
   "metadata": {},
   "outputs": [],
   "source": [
    "# 入力テキストを設定\n",
    "user_input = input() # \"こんにちは。RTAにおいて重要なのは、ゲームをクリアするまでのスピードと、画面操作を行う精度です。\""
   ]
  },
  {
   "cell_type": "code",
   "execution_count": 9,
   "metadata": {},
   "outputs": [],
   "source": [
    "# ここで設定を行う\n",
    "chat_completion = client.chat.completions.create(\n",
    "    # メッセージ設定\n",
    "    messages = [\n",
    "        {\n",
    "            # システム設定\n",
    "            \"role\": \"system\",\n",
    "            \"content\":\n",
    "            '''\n",
    "            入力された文章から、関連性の高いワードを5つ生成してください。\n",
    "            出力形式は、 「word1, word2, word3, word4, word5」 で出力してください。\n",
    "            '''\n",
    "        },\n",
    "        {\n",
    "            # ユーザー設定\n",
    "            \"role\": \"user\",\n",
    "            \"content\": user_input\n",
    "        }\n",
    "    ],\n",
    "    # モデル設定\n",
    "    model=\"llama-3.3-70b-versatile\",\n",
    ")"
   ]
  },
  {
   "cell_type": "code",
   "execution_count": 10,
   "metadata": {},
   "outputs": [
    {
     "name": "stdout",
     "output_type": "stream",
     "text": [
      "RTA, ゲーム, スピード, 操作, プレイヤー\n"
     ]
    }
   ],
   "source": [
    "# 内容を出力\n",
    "outputs = chat_completion.choices[0].message.content\n",
    "print(outputs)"
   ]
  },
  {
   "cell_type": "code",
   "execution_count": 11,
   "metadata": {},
   "outputs": [
    {
     "name": "stdout",
     "output_type": "stream",
     "text": [
      "['RTA', ' ゲーム', ' スピード', ' 操作', ' プレイヤー']\n"
     ]
    }
   ],
   "source": [
    "word_list = outputs.split(\",\")\n",
    "print(word_list)"
   ]
  },
  {
   "cell_type": "code",
   "execution_count": 12,
   "metadata": {},
   "outputs": [
    {
     "name": "stdout",
     "output_type": "stream",
     "text": [
      " スピード\n"
     ]
    }
   ],
   "source": [
    "print(word_list[2])"
   ]
  },
  {
   "cell_type": "code",
   "execution_count": null,
   "metadata": {},
   "outputs": [],
   "source": []
  }
 ],
 "metadata": {
  "kernelspec": {
   "display_name": "Memo_app",
   "language": "python",
   "name": "python3"
  },
  "language_info": {
   "codemirror_mode": {
    "name": "ipython",
    "version": 3
   },
   "file_extension": ".py",
   "mimetype": "text/x-python",
   "name": "python",
   "nbconvert_exporter": "python",
   "pygments_lexer": "ipython3",
   "version": "3.11.9"
  }
 },
 "nbformat": 4,
 "nbformat_minor": 2
}
