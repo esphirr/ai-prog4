{
  "nbformat": 4,
  "nbformat_minor": 0,
  "metadata": {
    "colab": {
      "provenance": []
    },
    "kernelspec": {
      "name": "python3",
      "display_name": "Python 3"
    },
    "language_info": {
      "name": "python"
    }
  },
  "cells": [
    {
      "cell_type": "code",
      "source": [
        "# ライブラリのインストール\n",
        "!pip install -Uq groq"
      ],
      "metadata": {
        "colab": {
          "base_uri": "https://localhost:8080/"
        },
        "id": "Rvea0r_4-MiC",
        "outputId": "3886a027-5392-4498-e2f3-7264a2b29686"
      },
      "execution_count": 3,
      "outputs": [
        {
          "output_type": "stream",
          "name": "stdout",
          "text": [
            "\u001b[?25l   \u001b[90m━━━━━━━━━━━━━━━━━━━━━━━━━━━━━━━━━━━━━━━━\u001b[0m \u001b[32m0.0/109.1 kB\u001b[0m \u001b[31m?\u001b[0m eta \u001b[36m-:--:--\u001b[0m\r\u001b[2K   \u001b[90m━━━━━━━━━━━━━━━━━━━━━━━━━━━━━━━━━━━━━━━━\u001b[0m \u001b[32m109.1/109.1 kB\u001b[0m \u001b[31m3.1 MB/s\u001b[0m eta \u001b[36m0:00:00\u001b[0m\n",
            "\u001b[?25h"
          ]
        }
      ]
    },
    {
      "cell_type": "code",
      "execution_count": 9,
      "metadata": {
        "id": "yJ4zlYcC9afN"
      },
      "outputs": [],
      "source": [
        "# ライブラリのインポート\n",
        "import os\n",
        "from groq import Groq\n",
        "from google.colab import userdata"
      ]
    },
    {
      "cell_type": "code",
      "source": [
        "# APIキーの取得\n",
        "GROQ_API_KEY = userdata.get('GROQ_API_KEY')\n",
        "\n",
        "# 環境変数に設定\n",
        "os.environ[\"GROQ_API_KEY\"] = GROQ_API_KEY\n",
        "\n",
        "# クライアントの初期化\n",
        "client = Groq(\n",
        "    api_key=os.environ[\"GROQ_API_KEY\"]\n",
        ")"
      ],
      "metadata": {
        "id": "lS6s9MCT992E"
      },
      "execution_count": 15,
      "outputs": []
    },
    {
      "cell_type": "code",
      "source": [
        "# 入力テキストを設定\n",
        "# \"こんにちは。RTAにおいて重要なのは、ゲームをクリアするまでのスピードと、画面操作を行う精度です。\"\n",
        "user_input = input()"
      ],
      "metadata": {
        "colab": {
          "base_uri": "https://localhost:8080/"
        },
        "id": "RIBlNNJI-AQJ",
        "outputId": "f79e2cec-a575-4cda-c121-79939850828f"
      },
      "execution_count": 16,
      "outputs": [
        {
          "name": "stdout",
          "output_type": "stream",
          "text": [
            "こんにちは。RTAにおいて重要なのは、ゲームをクリアするまでのスピードと、画面操作を行う精度です。\n"
          ]
        }
      ]
    },
    {
      "cell_type": "code",
      "source": [
        "# ここで設定を行う\n",
        "chat_completion = client.chat.completions.create(\n",
        "    # メッセージ設定\n",
        "    messages = [\n",
        "        {\n",
        "            # システム設定（具体的な出力の指示とか）\n",
        "            \"role\": \"system\",\n",
        "            \"content\":\n",
        "            '''\n",
        "            入力された文章から、関連性の高いワードを5つ生成してください。\n",
        "            出力形式は、 「word1,word2,word3,word4,word5」 で出力してください。\n",
        "            単語の前に余計なスペースなどは入れないようにしてください。\n",
        "            '''\n",
        "        },\n",
        "        {\n",
        "            # ユーザー設定\n",
        "            \"role\": \"user\",\n",
        "            \"content\": user_input\n",
        "        }\n",
        "    ],\n",
        "    # モデル設定\n",
        "    model=\"llama-3.3-70b-versatile\",\n",
        ")"
      ],
      "metadata": {
        "id": "eo_YNGSa-GZc"
      },
      "execution_count": 17,
      "outputs": []
    },
    {
      "cell_type": "code",
      "source": [
        "# 内容を出力\n",
        "outputs = chat_completion.choices[0].message.content\n",
        "print(outputs)"
      ],
      "metadata": {
        "colab": {
          "base_uri": "https://localhost:8080/"
        },
        "id": "j17Ty6de-Ib4",
        "outputId": "d12f85ff-ecce-448b-e190-dbc63bedfe71"
      },
      "execution_count": 18,
      "outputs": [
        {
          "output_type": "stream",
          "name": "stdout",
          "text": [
            "RTA,ゲーム,クリア,スピード,操作\n"
          ]
        }
      ]
    },
    {
      "cell_type": "code",
      "source": [
        "# 単語をリストにする\n",
        "word_list = outputs.split(\",\")\n",
        "\n",
        "print(word_list)\n",
        "print(f\"リストの3番目の単語は「 {word_list[2]} 」です。\")"
      ],
      "metadata": {
        "colab": {
          "base_uri": "https://localhost:8080/"
        },
        "id": "oBga2Xy6-J_a",
        "outputId": "b3b511da-4f34-46a3-d43a-cf7defed0832"
      },
      "execution_count": 19,
      "outputs": [
        {
          "output_type": "stream",
          "name": "stdout",
          "text": [
            "['RTA', 'ゲーム', 'クリア', 'スピード', '操作']\n",
            "リストの3番目の単語は「 クリア 」です。\n"
          ]
        }
      ]
    },
    {
      "cell_type": "code",
      "source": [],
      "metadata": {
        "id": "bBxeSC2JDuBu"
      },
      "execution_count": null,
      "outputs": []
    }
  ]
}